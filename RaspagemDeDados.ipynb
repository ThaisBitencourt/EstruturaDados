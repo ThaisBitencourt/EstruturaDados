{
 "cells": [
  {
   "cell_type": "markdown",
   "metadata": {},
   "source": [
    "# Tema: Quantidade de mulheres candidatas entre os anos de 1998 até 2016."
   ]
  },
  {
   "cell_type": "markdown",
   "metadata": {},
   "source": [
    "Curso: Analise e desenvolvimento de sistemas.\n",
    "\n",
    "Alunos: Carlos Henrique Monteiro Neto e Thais Bitencourt de meneses.\n",
    "\n",
    "Professor: Fernando Masanori"
   ]
  },
  {
   "cell_type": "markdown",
   "metadata": {},
   "source": [
    "# Importando as bibliotecas"
   ]
  },
  {
   "cell_type": "code",
   "execution_count": 118,
   "metadata": {},
   "outputs": [],
   "source": [
    "import pandas as pd"
   ]
  },
  {
   "cell_type": "markdown",
   "metadata": {},
   "source": [
    "# Realizando o load dos dados do TXT para o pandas dataframe"
   ]
  },
  {
   "cell_type": "code",
   "execution_count": 119,
   "metadata": {},
   "outputs": [],
   "source": [
    "candidatos = pd.read_csv('candidatos.csv', sep=';')\n",
    "candidatos = candidatos.apply(lambda x: x.astype(str).str.upper())"
   ]
  },
  {
   "cell_type": "code",
   "execution_count": 120,
   "metadata": {},
   "outputs": [
    {
     "data": {
      "text/html": [
       "<div>\n",
       "<style scoped>\n",
       "    .dataframe tbody tr th:only-of-type {\n",
       "        vertical-align: middle;\n",
       "    }\n",
       "\n",
       "    .dataframe tbody tr th {\n",
       "        vertical-align: top;\n",
       "    }\n",
       "\n",
       "    .dataframe thead th {\n",
       "        text-align: right;\n",
       "    }\n",
       "</style>\n",
       "<table border=\"1\" class=\"dataframe\">\n",
       "  <thead>\n",
       "    <tr style=\"text-align: right;\">\n",
       "      <th></th>\n",
       "      <th>can_id</th>\n",
       "      <th>ano</th>\n",
       "      <th>turno</th>\n",
       "      <th>codmun</th>\n",
       "      <th>codibge6</th>\n",
       "      <th>codcargo</th>\n",
       "      <th>codcand</th>\n",
       "      <th>codpart</th>\n",
       "      <th>siglapart</th>\n",
       "      <th>nomepart</th>\n",
       "      <th>...</th>\n",
       "      <th>data_nasc</th>\n",
       "      <th>codnasc</th>\n",
       "      <th>sexo</th>\n",
       "      <th>estciv</th>\n",
       "      <th>inst</th>\n",
       "      <th>ocup</th>\n",
       "      <th>cpf</th>\n",
       "      <th>leg</th>\n",
       "      <th>sit_pos</th>\n",
       "      <th>Unnamed: 21</th>\n",
       "    </tr>\n",
       "  </thead>\n",
       "  <tbody>\n",
       "    <tr>\n",
       "      <th>0</th>\n",
       "      <td>1</td>\n",
       "      <td>1998</td>\n",
       "      <td>1</td>\n",
       "      <td>0</td>\n",
       "      <td>350000</td>\n",
       "      <td>3</td>\n",
       "      <td>11</td>\n",
       "      <td>11</td>\n",
       "      <td>PPB</td>\n",
       "      <td>PARTIDO PROGRESSISTA BRASILEIRO</td>\n",
       "      <td>...</td>\n",
       "      <td>03/09/1931</td>\n",
       "      <td>355030</td>\n",
       "      <td>2</td>\n",
       "      <td>1</td>\n",
       "      <td>8</td>\n",
       "      <td>-1</td>\n",
       "      <td>1746</td>\n",
       "      <td>4566</td>\n",
       "      <td>6</td>\n",
       "      <td>NAN</td>\n",
       "    </tr>\n",
       "    <tr>\n",
       "      <th>1</th>\n",
       "      <td>3</td>\n",
       "      <td>1998</td>\n",
       "      <td>1</td>\n",
       "      <td>0</td>\n",
       "      <td>350000</td>\n",
       "      <td>3</td>\n",
       "      <td>13</td>\n",
       "      <td>13</td>\n",
       "      <td>PT</td>\n",
       "      <td>PARTIDO DOS TRABALHADORES</td>\n",
       "      <td>...</td>\n",
       "      <td>18/03/1945</td>\n",
       "      <td>355030</td>\n",
       "      <td>1</td>\n",
       "      <td>1</td>\n",
       "      <td>8</td>\n",
       "      <td>154</td>\n",
       "      <td>1011</td>\n",
       "      <td>5096</td>\n",
       "      <td>4</td>\n",
       "      <td>NAN</td>\n",
       "    </tr>\n",
       "    <tr>\n",
       "      <th>2</th>\n",
       "      <td>5</td>\n",
       "      <td>1998</td>\n",
       "      <td>1</td>\n",
       "      <td>0</td>\n",
       "      <td>350000</td>\n",
       "      <td>3</td>\n",
       "      <td>16</td>\n",
       "      <td>16</td>\n",
       "      <td>PSTU</td>\n",
       "      <td>PARTIDO SOCIALISTA DOS TRABALHADORES UNIFICADO</td>\n",
       "      <td>...</td>\n",
       "      <td>09/01/1958</td>\n",
       "      <td>312830</td>\n",
       "      <td>2</td>\n",
       "      <td>2</td>\n",
       "      <td>9</td>\n",
       "      <td>288</td>\n",
       "      <td>204</td>\n",
       "      <td>5081</td>\n",
       "      <td>4</td>\n",
       "      <td>NAN</td>\n",
       "    </tr>\n",
       "    <tr>\n",
       "      <th>3</th>\n",
       "      <td>11</td>\n",
       "      <td>1998</td>\n",
       "      <td>1</td>\n",
       "      <td>0</td>\n",
       "      <td>350000</td>\n",
       "      <td>4</td>\n",
       "      <td>131</td>\n",
       "      <td>13</td>\n",
       "      <td>PT</td>\n",
       "      <td>PARTIDO DOS TRABALHADORES</td>\n",
       "      <td>...</td>\n",
       "      <td>28/02/1953</td>\n",
       "      <td>355030</td>\n",
       "      <td>2</td>\n",
       "      <td>1</td>\n",
       "      <td>8</td>\n",
       "      <td>209</td>\n",
       "      <td>1054</td>\n",
       "      <td>5096</td>\n",
       "      <td>4</td>\n",
       "      <td>NAN</td>\n",
       "    </tr>\n",
       "    <tr>\n",
       "      <th>4</th>\n",
       "      <td>13</td>\n",
       "      <td>1998</td>\n",
       "      <td>1</td>\n",
       "      <td>0</td>\n",
       "      <td>350000</td>\n",
       "      <td>4</td>\n",
       "      <td>161</td>\n",
       "      <td>16</td>\n",
       "      <td>PSTU</td>\n",
       "      <td>PARTIDO SOCIALISTA DOS TRABALHADORES UNIFICADO</td>\n",
       "      <td>...</td>\n",
       "      <td>21/11/1953</td>\n",
       "      <td>330170</td>\n",
       "      <td>1</td>\n",
       "      <td>5</td>\n",
       "      <td>8</td>\n",
       "      <td>33</td>\n",
       "      <td>456</td>\n",
       "      <td>5081</td>\n",
       "      <td>4</td>\n",
       "      <td>NAN</td>\n",
       "    </tr>\n",
       "  </tbody>\n",
       "</table>\n",
       "<p>5 rows × 22 columns</p>\n",
       "</div>"
      ],
      "text/plain": [
       "  can_id   ano turno codmun codibge6 codcargo codcand codpart siglapart  \\\n",
       "0      1  1998     1      0   350000        3      11      11       PPB   \n",
       "1      3  1998     1      0   350000        3      13      13        PT   \n",
       "2      5  1998     1      0   350000        3      16      16      PSTU   \n",
       "3     11  1998     1      0   350000        4     131      13        PT   \n",
       "4     13  1998     1      0   350000        4     161      16      PSTU   \n",
       "\n",
       "                                         nomepart  ...   data_nasc codnasc  \\\n",
       "0                 PARTIDO PROGRESSISTA BRASILEIRO  ...  03/09/1931  355030   \n",
       "1                       PARTIDO DOS TRABALHADORES  ...  18/03/1945  355030   \n",
       "2  PARTIDO SOCIALISTA DOS TRABALHADORES UNIFICADO  ...  09/01/1958  312830   \n",
       "3                       PARTIDO DOS TRABALHADORES  ...  28/02/1953  355030   \n",
       "4  PARTIDO SOCIALISTA DOS TRABALHADORES UNIFICADO  ...  21/11/1953  330170   \n",
       "\n",
       "  sexo estciv inst ocup   cpf   leg sit_pos Unnamed: 21  \n",
       "0    2      1    8   -1  1746  4566       6         NAN  \n",
       "1    1      1    8  154  1011  5096       4         NAN  \n",
       "2    2      2    9  288   204  5081       4         NAN  \n",
       "3    2      1    8  209  1054  5096       4         NAN  \n",
       "4    1      5    8   33   456  5081       4         NAN  \n",
       "\n",
       "[5 rows x 22 columns]"
      ]
     },
     "execution_count": 120,
     "metadata": {},
     "output_type": "execute_result"
    }
   ],
   "source": [
    "candidatos.head()"
   ]
  },
  {
   "cell_type": "markdown",
   "metadata": {},
   "source": [
    "# Visualização da estrutura"
   ]
  },
  {
   "cell_type": "code",
   "execution_count": 121,
   "metadata": {},
   "outputs": [
    {
     "name": "stdout",
     "output_type": "stream",
     "text": [
      "<class 'pandas.core.frame.DataFrame'>\n",
      "RangeIndex: 192674 entries, 0 to 192673\n",
      "Data columns (total 22 columns):\n",
      " #   Column       Non-Null Count   Dtype \n",
      "---  ------       --------------   ----- \n",
      " 0   can_id       192674 non-null  object\n",
      " 1   ano          192674 non-null  object\n",
      " 2   turno        192674 non-null  object\n",
      " 3   codmun       192674 non-null  object\n",
      " 4   codibge6     192674 non-null  object\n",
      " 5   codcargo     192674 non-null  object\n",
      " 6   codcand      192674 non-null  object\n",
      " 7   codpart      192674 non-null  object\n",
      " 8   siglapart    192674 non-null  object\n",
      " 9   nomepart     192674 non-null  object\n",
      " 10  nomecand     192674 non-null  object\n",
      " 11  nomeurna     192674 non-null  object\n",
      " 12  data_nasc    192674 non-null  object\n",
      " 13  codnasc      192674 non-null  object\n",
      " 14  sexo         192674 non-null  object\n",
      " 15  estciv       192674 non-null  object\n",
      " 16  inst         192674 non-null  object\n",
      " 17  ocup         192674 non-null  object\n",
      " 18  cpf          192674 non-null  object\n",
      " 19  leg          192674 non-null  object\n",
      " 20  sit_pos      192674 non-null  object\n",
      " 21  Unnamed: 21  192674 non-null  object\n",
      "dtypes: object(22)\n",
      "memory usage: 32.3+ MB\n"
     ]
    }
   ],
   "source": [
    "candidatos.info()"
   ]
  },
  {
   "cell_type": "markdown",
   "metadata": {},
   "source": [
    "# Candidatas por ano (1998 - 2016)"
   ]
  },
  {
   "cell_type": "code",
   "execution_count": 122,
   "metadata": {},
   "outputs": [
    {
     "data": {
      "text/plain": [
       "<AxesSubplot:title={'center':'Porcentagem entre candidatos e candidatas em 1998/2016'}>"
      ]
     },
     "execution_count": 122,
     "metadata": {},
     "output_type": "execute_result"
    },
    {
     "data": {
      "image/png": "[encoded data removed]",
      "text/plain": [
       "<Figure size 432x288 with 1 Axes>"
      ]
     },
     "metadata": {
      "needs_background": "light"
     },
     "output_type": "display_data"
    }
   ],
   "source": [
    "    candidatos_1998 = candidatos.query('ano==\"1998\"');\n",
    "    candidatos_2016 = candidatos.query('ano==\"2016\"');\n",
    "    \n",
    "    qtd_2016 = candidatos_2016[\"sexo\"].value_counts(normalize=True);\n",
    "    qtd_1998 = candidatos_1998[\"sexo\"].value_counts(normalize=True);\n",
    "    \n",
    "    porcentagens = pd.DataFrame([qtd_1998, qtd_2016], index=['1998', '2016']).T\n",
    "    \n",
    "    pd.concat([porcentagens.min().rename('Feminino'), porcentagens.max().rename('Masculino')], axis=1).plot.bar(color=['red', 'blue'], title='Porcentagem entre candidatos e candidatas em 1998/2016')\n"
   ]
  },
  {
   "cell_type": "markdown",
   "metadata": {},
   "source": [
    "# Partidos políticos"
   ]
  },
  {
   "cell_type": "code",
   "execution_count": 123,
   "metadata": {},
   "outputs": [
    {
     "name": "stdout",
     "output_type": "stream",
     "text": [
      "PSDB       26883\n",
      "PTB        19653\n",
      "PT         19284\n",
      "PV         15435\n",
      "PPS        15253\n",
      "PSB        13523\n",
      "DEM        10356\n",
      "PP          9542\n",
      "PFL         8489\n",
      "PL          5728\n",
      "PRP         5537\n",
      "PRB         5335\n",
      "PSL         4938\n",
      "PHS         4645\n",
      "PC DO B     4275\n",
      "PTN         4166\n",
      "PPB         3719\n",
      "PRTB        3061\n",
      "PSOL        2811\n",
      "PT DO B     2689\n",
      "SD          2463\n",
      "PROS        1335\n",
      "PST          844\n",
      "PMB          787\n",
      "PSTU         610\n",
      "REDE         541\n",
      "PGT          526\n",
      "PCB          203\n",
      "NOVO          38\n",
      "PSN            5\n",
      "Name: siglapart, dtype: int64\n"
     ]
    }
   ],
   "source": [
    "partidos_count = candidatos['siglapart'].value_counts()\n",
    "print(partidos_count)"
   ]
  },
  {
   "cell_type": "code",
   "execution_count": 124,
   "metadata": {},
   "outputs": [
    {
     "data": {
      "text/plain": [
       "<AxesSubplot:title={'center':'Candidatos por partidos (masculinos e femininas)'}>"
      ]
     },
     "execution_count": 124,
     "metadata": {},
     "output_type": "execute_result"
    },
    {
     "data": {
      "image/png": "[encoded data removed]",
      "text/plain": [
       "<Figure size 1080x504 with 1 Axes>"
      ]
     },
     "metadata": {
      "needs_background": "light"
     },
     "output_type": "display_data"
    }
   ],
   "source": [
    "partidos_count.plot(kind='bar', width=0.5, title='Candidatos por partidos (masculinos e femininas)', grid=False, figsize=(15,7))"
   ]
  },
  {
   "cell_type": "markdown",
   "metadata": {},
   "source": [
    "#  Candidatas em partidos"
   ]
  },
  {
   "cell_type": "code",
   "execution_count": 125,
   "metadata": {},
   "outputs": [
    {
     "name": "stdout",
     "output_type": "stream",
     "text": [
      "PSDB       7768\n",
      "PT         5756\n",
      "PTB        5648\n",
      "PV         4877\n",
      "PPS        4302\n",
      "PSB        3938\n",
      "DEM        3247\n",
      "PP         2723\n",
      "PFL        2025\n",
      "PRB        1771\n",
      "PRP        1660\n",
      "PSL        1522\n",
      "PHS        1412\n",
      "PL         1382\n",
      "PC DO B    1364\n",
      "PTN        1294\n",
      "PRTB        889\n",
      "PSOL        873\n",
      "SD          847\n",
      "PT DO B     840\n",
      "PPB         768\n",
      "PROS        424\n",
      "PMB         356\n",
      "PST         197\n",
      "PSTU        195\n",
      "REDE        179\n",
      "PGT          99\n",
      "PCB          52\n",
      "NOVO         14\n",
      "PSN           2\n",
      "Name: siglapart, dtype: int64\n"
     ]
    }
   ],
   "source": [
    "partidos_candidatas_count = candidatos.query('sexo==\"1\"');\n",
    "partidos_candidatas_count = partidos_candidatas_count['siglapart'].value_counts()\n",
    "print(partidos_candidatas_count)"
   ]
  },
  {
   "cell_type": "code",
   "execution_count": 126,
   "metadata": {},
   "outputs": [
    {
     "data": {
      "text/plain": [
       "<AxesSubplot:title={'center':'Candidatas por partidos'}>"
      ]
     },
     "execution_count": 126,
     "metadata": {},
     "output_type": "execute_result"
    },
    {
     "data": {
      "image/png": "[encoded data removed]",
      "text/plain": [
       "<Figure size 1080x504 with 1 Axes>"
      ]
     },
     "metadata": {
      "needs_background": "light"
     },
     "output_type": "display_data"
    }
   ],
   "source": [
    "partidos_candidatas_count.plot(kind='bar', width=0.5, title='Candidatas por partidos', grid=False, figsize=(15,7))"
   ]
  },
  {
   "cell_type": "markdown",
   "metadata": {},
   "source": [
    "# Homens x Mulheres"
   ]
  },
  {
   "cell_type": "code",
   "execution_count": 127,
   "metadata": {},
   "outputs": [
    {
     "data": {
      "text/plain": [
       "Text(0.5, 1.0, 'Porcentangem dos generos entre os candidatos')"
      ]
     },
     "execution_count": 127,
     "metadata": {},
     "output_type": "execute_result"
    },
    {
     "data": {
      "image/png": "[encoded data removed]",
      "text/plain": [
       "<Figure size 1080x504 with 1 Axes>"
      ]
     },
     "metadata": {},
     "output_type": "display_data"
    }
   ],
   "source": [
    "plot = candidatos.groupby('sexo').size().sort_values().plot(kind='pie', autopct='%1.1f%%', colors=['blue', 'red'], labels=['FEMININO', 'MASCULINO'], figsize=(15,7))\n",
    "plot.set_title('Porcentangem dos generos entre os candidatos')"
   ]
  },
  {
   "cell_type": "code",
   "execution_count": null,
   "metadata": {},
   "outputs": [],
   "source": []
  },
  {
   "cell_type": "code",
   "execution_count": null,
   "metadata": {},
   "outputs": [],
   "source": []
  }
 ],
 "metadata": {
  "kernelspec": {
   "display_name": "Python 3",
   "language": "python",
   "name": "python3"
  },
  "language_info": {
   "codemirror_mode": {
    "name": "ipython",
    "version": 3
   },
   "file_extension": ".py",
   "mimetype": "text/x-python",
   "name": "python",
   "nbconvert_exporter": "python",
   "pygments_lexer": "ipython3",
   "version": "3.8.5"
  }
 },
 "nbformat": 4,
 "nbformat_minor": 4
}
